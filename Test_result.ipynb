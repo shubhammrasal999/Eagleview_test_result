{
 "cells": [
  {
   "cell_type": "code",
   "execution_count": 3,
   "id": "64f8995a",
   "metadata": {},
   "outputs": [
    {
     "data": {
      "text/plain": [
       "23157"
      ]
     },
     "execution_count": 3,
     "metadata": {},
     "output_type": "execute_result"
    }
   ],
   "source": [
    "import cv2\n",
    "import os\n",
    "import multiprocessing as mp\n",
    "import numpy as np\n",
    "from concurrent.futures import ThreadPoolExecutor\n",
    "\n",
    "\n",
    "def imgdir(base , image_files = []):\n",
    "    for img in os.listdir(base):\n",
    "        image_file = os.path.join(base, img)\n",
    "        image_files.append(image_file)\n",
    "    return image_files\n",
    "\n",
    "def process_image(filename):\n",
    "    img = cv2.imread(filename)\n",
    "    mask = np.all(img > 200, axis=2).astype(np.uint8) * 255   # white pixels\n",
    "    cv2.imwrite(filename.replace('.jpg', '.png'), mask)\n",
    "    return np.sum(mask > 200)\n",
    "\n",
    "def main(base):\n",
    "    image_files= imgdir(base)\n",
    "    # with mp.Pool() as pool:\n",
    "    #     results = pool.map(process_image, image_files)\n",
    "    with ThreadPoolExecutor() as executor:\n",
    "        results = list(executor.map(process_image, image_files))\n",
    "\n",
    "    total_white_pixels = sum(results)\n",
    "    return total_white_pixels\n",
    "\n",
    "base = r\"D:\\Test_result\\data\"\n",
    "main(base)\n"
   ]
  },
  {
   "cell_type": "code",
   "execution_count": null,
   "id": "b01bf3e7",
   "metadata": {},
   "outputs": [],
   "source": []
  }
 ],
 "metadata": {
  "kernelspec": {
   "display_name": "Python 3 (ipykernel)",
   "language": "python",
   "name": "python3"
  },
  "language_info": {
   "codemirror_mode": {
    "name": "ipython",
    "version": 3
   },
   "file_extension": ".py",
   "mimetype": "text/x-python",
   "name": "python",
   "nbconvert_exporter": "python",
   "pygments_lexer": "ipython3",
   "version": "3.10.6"
  }
 },
 "nbformat": 4,
 "nbformat_minor": 5
}
